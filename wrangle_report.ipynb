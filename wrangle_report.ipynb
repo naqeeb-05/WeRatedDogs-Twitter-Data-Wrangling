{
 "cells": [
  {
   "cell_type": "markdown",
   "metadata": {},
   "source": [
    "In this project WeRatedDogs's twitter data is wrangled to produce interesting insights and visualizaitons. The data was sourced from three different places. The first file 'twitter-archive-enhanced.csv' was downloaded manually using the link provided and stored in the dataframe 'df_original'. This file contains information such as 'tweet id', timestamp, dog ratings, names, stages etc. The second file was stored in a TSV format which was downloaded programtically using the requests library and stored in 'df_img_original'. This contained classification of dog breeds for different tweet id's which was generated using the neural network. For the last of data gathering process the retweet and favourite count had to be extracted using the twitter's api tweepy. First a developer twitter account had to be opened and then individual tweet data was downloaded and stored in the 'tweet_json.txt'. Finally, each tweet was read out using 'with open' function and data is stored in the dataframe 'df_api_original'.\n",
    "\n",
    "After gathering the data a visual assessment of all the three different dataframes was performed using excel. Individual copies of the three dataframes were made and stored as 'df', 'df_img' and 'df_api' before begining the cleaning process. During the assement a number of quality and tidness issues were noticed. In the first dataset 'df' some of the rows in the expanded_urls column had repeated url links and missing values. Next, the tweet_id, timestamp had incorrect datatypes and also some of the dog names where wrong. Further investigation revealed that the numerator ratings were represented only as integers even though the original data contained decimal values. Also, tweets coressponding to the tweet id: '716439118184652801' and '666287406224695296' had wrong numerator and denominator ratings. In the same dataset I also noticed that some of the data was from retweets and not the original tweets. Finally, the dataframe 'df_api' had some missing values in the retweet and favourite count column. In addition to the above mentioned quality issues there were particularly two tidness issues. First the different dog stages were represented in different columns. Second both dataframes 'df_img' and 'df_api' are the subsets of the main dataset hence, it should be combined to form a master dataframe.\n",
    "\n",
    "First the repeated url links in the expanded_urls columns were fixed by only selecting the first entry and then the rows with missing values were dropped. The timestamp column was convered to datetime datatype using pandas function. Next, incorrect dog names such as 'a', 'an' etc were replaced by 'None'and then rows with retweets were drop. Similarly, the empty columns 'retweeted_status_id', 'retweeted_status_user_id', 'retweeted_status_timestamp' were dropped. Next the numerator ratings were filled with correct decimal values and then tweets ('716439118184652801' and '666287406224695296') with wrong numerator and denominator ratings were corrected. Finally, different dog stages were combined in a single column and empty cells were filled with 'None'. The 3 dataframes were combined into a master dataframe 'df_final' and exported as a 'twitter_archive_master.csv'.\n"
   ]
  },
  {
   "cell_type": "code",
   "execution_count": null,
   "metadata": {},
   "outputs": [],
   "source": []
  }
 ],
 "metadata": {
  "kernelspec": {
   "display_name": "Python 3",
   "language": "python",
   "name": "python3"
  },
  "language_info": {
   "codemirror_mode": {
    "name": "ipython",
    "version": 3
   },
   "file_extension": ".py",
   "mimetype": "text/x-python",
   "name": "python",
   "nbconvert_exporter": "python",
   "pygments_lexer": "ipython3",
   "version": "3.6.3"
  }
 },
 "nbformat": 4,
 "nbformat_minor": 2
}
